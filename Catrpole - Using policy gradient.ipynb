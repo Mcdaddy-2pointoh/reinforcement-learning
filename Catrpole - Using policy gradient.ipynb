{
 "cells": [
  {
   "cell_type": "markdown",
   "id": "cfd88600",
   "metadata": {},
   "source": [
    "# 0. Imports"
   ]
  },
  {
   "cell_type": "code",
   "execution_count": 28,
   "id": "5277d758",
   "metadata": {},
   "outputs": [],
   "source": [
    "import gymnasium as gym\n",
    "import torch\n",
    "import torch.nn as nn\n",
    "import torch.optim as optim\n",
    "import numpy as np\n",
    "import matplotlib.pyplot as plt\n",
    "from tqdm.notebook import tqdm\n",
    "from torch.utils.tensorboard import SummaryWriter\n",
    "import time\n",
    "import math"
   ]
  },
  {
   "cell_type": "code",
   "execution_count": 29,
   "id": "943ee68b",
   "metadata": {},
   "outputs": [
    {
     "name": "stdout",
     "output_type": "stream",
     "text": [
      "cuda\n"
     ]
    }
   ],
   "source": [
    "# Set torch device\n",
    "device = torch.device(\"cuda\" if torch.cuda.is_available() else \"cpu\")\n",
    "print(device)"
   ]
  },
  {
   "cell_type": "markdown",
   "id": "3c7785c6",
   "metadata": {},
   "source": [
    "# 1. Hyperparameters"
   ]
  },
  {
   "cell_type": "code",
   "execution_count": 30,
   "id": "c1f0409a",
   "metadata": {},
   "outputs": [],
   "source": [
    "hyperparameters = {\n",
    "    \"gamma\" : 0.99,\n",
    "    \"optimizer\" : \"adam\",\n",
    "    \"alpha\" : 0.01,\n",
    "    \"episodes\" : 1000,\n",
    "    \"verbose\" : False,\n",
    "    \"use_tensorboard\" : True\n",
    "}\n",
    "\n",
    "env_configs = {\n",
    "    \"name\" : \"CartPole-v1\",\n",
    "    \"render_mode\": None\n",
    "}"
   ]
  },
  {
   "cell_type": "markdown",
   "id": "7be67726",
   "metadata": {},
   "source": [
    "# 2. Define the torch NN"
   ]
  },
  {
   "cell_type": "code",
   "execution_count": 31,
   "id": "c9815066",
   "metadata": {},
   "outputs": [],
   "source": [
    "class PolicyNetwork(nn.Module):\n",
    "    \"\"\"\n",
    "    Class (nn.Module): Simple NN to act as policy learner\n",
    "    \"\"\"\n",
    "    def __init__(self, state_dim: int, action_dim: int):\n",
    "        \"\"\"\n",
    "        Function: Initialises the nn.Module obj to create a policy learner\n",
    "        Args:\n",
    "            state_dim (int): Number of state dimension to in env to consider as obervable\n",
    "            action_dim (int): Number of action dimensions to output the action probablities\n",
    "        Returns: None\n",
    "        \"\"\"\n",
    "\n",
    "        super(PolicyNetwork, self).__init__()\n",
    "\n",
    "        self.net = nn.Sequential(\n",
    "            nn.Linear(state_dim, 128),\n",
    "            nn.ReLU(),\n",
    "            nn.Linear(128, action_dim),\n",
    "            nn.Softmax(dim=-1)\n",
    "        )\n",
    "\n",
    "    def forward(self, state):\n",
    "        \"\"\"\n",
    "        Function: Forward loop of the policy learner\n",
    "        Args: \n",
    "            state (tensor): It contains the following features\n",
    "                - x : Position of the cart from the center\n",
    "                - x_dot : Velocity of the cart horizontally\n",
    "                - theeta : Pole Angle from the vertical\n",
    "                - theeta_dot : Angular velocity of the pole\n",
    "\n",
    "        Return: \n",
    "            action (tensor): Outputs a vector with the probablities of the actions that can be taken\n",
    "        \"\"\"\n",
    "        return self.net(state)"
   ]
  },
  {
   "cell_type": "markdown",
   "id": "9ca0e4ba",
   "metadata": {},
   "source": [
    "# 3. Helper Function"
   ]
  },
  {
   "cell_type": "code",
   "execution_count": 32,
   "id": "f0c5ddfd",
   "metadata": {},
   "outputs": [],
   "source": [
    "def compute_returns(rewards: torch.tensor, gamma: torch.float32 = 0.99):\n",
    "    \"\"\"\n",
    "    Function: Collects the final reward at the end of an episode and back computes the return of each state\n",
    "    Args:\n",
    "        rewards (tensor): The rewards at each step of the episode\n",
    "        gamma (float): Factor to discount the rewards with increase of time\n",
    "    \"\"\"\n",
    "    \n",
    "    # Initialise the Return  as 0\n",
    "    # Initialise the returns as empty\n",
    "    returns = []\n",
    "    G = 0\n",
    "\n",
    "    # Reverse the rewards and back compute the return\n",
    "    # Keep on appending the returns at the first position to get a correctly ordered list\n",
    "    for reward in reversed(rewards):\n",
    "            G = reward + gamma * G\n",
    "            returns.insert(0, G)\n",
    "\n",
    "    return returns"
   ]
  },
  {
   "cell_type": "markdown",
   "id": "e4190a7b",
   "metadata": {},
   "source": [
    "# 3. Training Loop"
   ]
  },
  {
   "cell_type": "code",
   "execution_count": 33,
   "id": "fbdad42b",
   "metadata": {},
   "outputs": [],
   "source": [
    "def train(env_name: str, \n",
    "        env_render_mode: str, \n",
    "        gamma: torch.float32, \n",
    "        alpha: torch.float32, \n",
    "        episodes: int,\n",
    "        device: str = \"cuda\",\n",
    "        verbose: bool = True,\n",
    "        use_tensorboard: bool = False): \n",
    "    \"\"\"\n",
    "    Function: A training loop to train the policy learner for teh cartpole environment\n",
    "    Args:   \n",
    "        env_name (str): Name of the environment to setup\n",
    "        gamma (torch.float32): The discount factor to apply when calculating returns\n",
    "        alpha (torch.float32): The learning rate of the policy learner NN\n",
    "        episodes (int): The number of episodes to train the model on\n",
    "        device (str): Specifies the compute unit\n",
    "        verbose (bool): Prints the rewards during training while True\n",
    "        use_tensorboard (bool): Log the results to tensorboard if True\n",
    "    Returns:\n",
    "        all_rewards (tensor): Collection of all rewards in the various episodes and steps\n",
    "    \"\"\"\n",
    "\n",
    "    # Initialise the environment and get the state and action dimensions\n",
    "    env = gym.make(env_name, render_mode=env_render_mode)\n",
    "    state_dim = env.observation_space.shape[0]\n",
    "    action_dim = env.action_space.n\n",
    "\n",
    "\n",
    "    # Define the policy learner and optimizer \n",
    "    # Define the all rewards tensor\n",
    "    # Define the tensor board summary writer\n",
    "    # \n",
    "    policy = PolicyNetwork(state_dim, action_dim).to(device)\n",
    "    optimizer = optim.Adam(policy.parameters(), lr=alpha)\n",
    "    all_rewards = []\n",
    "    avg_rewards = []\n",
    "    writer = SummaryWriter(log_dir=f\"runs/REINFORCE_CartPole_run_{math.floor(time.time())}\") if use_tensorboard else None\n",
    "\n",
    "    # Define the episode loop\n",
    "    for episode in tqdm(range(episodes)):\n",
    "        \n",
    "        # Reset the env\n",
    "        # Define the termination flag\n",
    "        # Define the log probs\n",
    "        # Define the rewards list\n",
    "        state, _ = env.reset()\n",
    "        done = False\n",
    "        log_probs = []\n",
    "        rewards = []\n",
    "\n",
    "        # Define the step loop\n",
    "        # Runs till termination or truncation\n",
    "        while not done:\n",
    "\n",
    "            # Make the policy learner produce the action probablities based on the state \n",
    "            state_tensor = torch.tensor(state, dtype=torch.float32).to(device)\n",
    "            action_probs = policy(state_tensor)\n",
    "\n",
    "            # Select an action based on the probablities given by the policy learner\n",
    "            dist = torch.distributions.Categorical(action_probs)\n",
    "            action = dist.sample()\n",
    "\n",
    "            # Append the log probablity to the log_probs list\n",
    "            log_probs.append(dist.log_prob(action))\n",
    "\n",
    "            # Get the next state information by taking a step \n",
    "            next_state, reward, terminated, truncated, _ = env.step(action.item())\n",
    "            done = terminated or truncated\n",
    "\n",
    "            # Reward append and move to the next state\n",
    "            rewards.append(reward)\n",
    "            state = next_state\n",
    "\n",
    "        # Compute discounted returns\n",
    "        returns = compute_returns(rewards=rewards, gamma=gamma)\n",
    "        returns = torch.tensor(returns).to(device)\n",
    "\n",
    "        # Normalise returns for stability\n",
    "        returns = (returns - returns.mean()) / (returns.std() + 1e-9)\n",
    "\n",
    "        # Compute the loss\n",
    "        # Update the policy learner\n",
    "        # Produce the total rewards\n",
    "        loss = -torch.sum(torch.stack(log_probs) * returns)\n",
    "        optimizer.zero_grad()\n",
    "        loss.backward()\n",
    "        optimizer.step()\n",
    "        total_rewards = sum(rewards)\n",
    "        all_rewards.append(total_rewards)\n",
    "\n",
    "        # TensorBoard logging\n",
    "        writer.add_scalar(\"Reward/Total\", total_rewards, episode)\n",
    "        if episode >= 100 and use_tensorboard:\n",
    "            avg_reward = np.mean(all_rewards[-100:])\n",
    "            sum_reward = np.sum(all_rewards[-100:])\n",
    "            max_reward = np.sum(all_rewards[-100:])\n",
    "            writer.add_scalar(\"Reward/Avg100\", avg_reward, episode)\n",
    "            writer.add_scalar(\"Reward/Sum100\", sum_reward, episode)\n",
    "            writer.add_scalar(\"Reward/Max100\", max_reward, episode)\n",
    "            avg_rewards.append(avg_reward)\n",
    "\n",
    "        # Print reward for every 50th episode\n",
    "        if episode % 50 == 0 and verbose:\n",
    "            print(f\"Episode {episode} — Total Reward: {total_rewards}\")\n",
    "\n",
    "    writer.close\n",
    "    env.close()\n",
    "    return all_rewards"
   ]
  },
  {
   "cell_type": "markdown",
   "id": "8257f88a",
   "metadata": {},
   "source": [
    "# 4. SANDBOX"
   ]
  },
  {
   "cell_type": "code",
   "execution_count": null,
   "id": "0b07b4c3",
   "metadata": {},
   "outputs": [
    {
     "data": {
      "application/vnd.jupyter.widget-view+json": {
       "model_id": "f8322aa8716e4d39b0b3ae5d11c81a32",
       "version_major": 2,
       "version_minor": 0
      },
      "text/plain": [
       "  0%|          | 0/1000 [00:00<?, ?it/s]"
      ]
     },
     "metadata": {},
     "output_type": "display_data"
    }
   ],
   "source": [
    "rewards = train(env_name = env_configs['name'], \n",
    "        env_render_mode = env_configs['render_mode'], \n",
    "        gamma = hyperparameters['gamma'], \n",
    "        alpha = hyperparameters['alpha'], \n",
    "        episodes = hyperparameters['episodes'],\n",
    "        device = device,\n",
    "        verbose = hyperparameters['verbose'],\n",
    "        use_tensorboard = hyperparameters['use_tensorboard']\n",
    ")"
   ]
  },
  {
   "cell_type": "code",
   "execution_count": 51,
   "id": "d9730faa",
   "metadata": {},
   "outputs": [
    {
     "data": {
      "image/png": "[encoded data removed]",
      "text/plain": [
       "<Figure size 640x480 with 1 Axes>"
      ]
     },
     "metadata": {},
     "output_type": "display_data"
    }
   ],
   "source": [
    "plt.plot(rewards)\n",
    "plt.xlabel('Episode')\n",
    "plt.ylabel('Total Reward')\n",
    "plt.title('REINFORCE on CartPole')\n",
    "plt.grid()\n",
    "plt.show()"
   ]
  },
  {
   "cell_type": "code",
   "execution_count": null,
   "id": "32d2de68",
   "metadata": {},
   "outputs": [],
   "source": []
  }
 ],
 "metadata": {
  "kernelspec": {
   "display_name": "rl-venv",
   "language": "python",
   "name": "python3"
  },
  "language_info": {
   "codemirror_mode": {
    "name": "ipython",
    "version": 3
   },
   "file_extension": ".py",
   "mimetype": "text/x-python",
   "name": "python",
   "nbconvert_exporter": "python",
   "pygments_lexer": "ipython3",
   "version": "3.12.1"
  }
 },
 "nbformat": 4,
 "nbformat_minor": 5
}
